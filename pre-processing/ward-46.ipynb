{
 "cells": [
  {
   "cell_type": "code",
   "execution_count": 28,
   "metadata": {},
   "outputs": [],
   "source": [
    "import pandas as pd\n",
    "import numpy as np\n",
    "\n",
    "#open file then get data from ward 46 and save it to a csv\n",
    "df = pd.read_csv(\"COM421_ProPublica_Dataset.csv\")\n",
    "df0 = df.loc[df['ward'] == 46.0]\n",
    "df0.to_csv(\"COM421-final-project-preproccessed.csv\")"
   ]
  },
  {
   "cell_type": "code",
   "execution_count": 33,
   "metadata": {},
   "outputs": [
    {
     "data": {
      "text/plain": [
       "EXP. METER NON-CENTRAL BUSINESS DISTRICT    4375\n",
       "STREET CLEANING                             4054\n",
       "EXPIRED PLATES OR TEMPORARY REGISTRATION    3088\n",
       "RESIDENTIAL PERMIT PARKING                  2794\n",
       "PARKING/STANDING PROHIBITED ANYTIME         1848\n",
       "                                            ... \n",
       "EXCESS FUMES/SMOKE DURING OPERATION            1\n",
       "REAR PLATE LIT AND LEGIBLE FOR 50'             1\n",
       "PARK OR STAND IN VIADUCT/UNDERPASS             1\n",
       "PARK OR STAND ON CHA PROPERTY                  1\n",
       "SUSPENSION MODIFIED BEYOND 3                   1\n",
       "Name: violation_description, Length: 85, dtype: int64"
      ]
     },
     "execution_count": 33,
     "metadata": {},
     "output_type": "execute_result"
    }
   ],
   "source": [
    "# find most common violations\n",
    "df1 = df0['violation_description'].value_counts()\n",
    "df1"
   ]
  },
  {
   "cell_type": "code",
   "execution_count": 35,
   "metadata": {},
   "outputs": [
    {
     "data": {
      "text/plain": [
       "Paid           18624\n",
       "Notice          3615\n",
       "Define          2688\n",
       "Dismissed       2615\n",
       "Bankruptcy       144\n",
       "Court             37\n",
       "Hearing Req        2\n",
       "Name: ticket_queue, dtype: int64"
      ]
     },
     "execution_count": 35,
     "metadata": {},
     "output_type": "execute_result"
    }
   ],
   "source": [
    "# look at queue within ward 46 -- not a nessecary statistic\n",
    "df2 = df0['ticket_queue'].value_counts()\n",
    "df2"
   ]
  },
  {
   "cell_type": "code",
   "execution_count": 39,
   "metadata": {},
   "outputs": [
    {
     "data": {
      "text/plain": [
       "Paid          3081\n",
       "Dismissed      604\n",
       "Notice         406\n",
       "Define         262\n",
       "Bankruptcy      11\n",
       "Court           11\n",
       "Name: ticket_queue, dtype: int64"
      ]
     },
     "execution_count": 39,
     "metadata": {},
     "output_type": "execute_result"
    }
   ],
   "source": [
    "# look at most common violation in ward and see what the queue is for that violation\n",
    "df3 = df0.loc[df['violation_description'] == 'EXP. METER NON-CENTRAL BUSINESS DISTRICT']\n",
    "df4 = df3['ticket_queue'].value_counts()\n",
    "df4"
   ]
  },
  {
   "cell_type": "code",
   "execution_count": 41,
   "metadata": {},
   "outputs": [
    {
     "data": {
      "text/plain": [
       "Not Liable    178\n",
       "Liable        108\n",
       "Name: hearing_disposition, dtype: int64"
      ]
     },
     "execution_count": 41,
     "metadata": {},
     "output_type": "execute_result"
    }
   ],
   "source": [
    "# get the number of people who attempted to fight ticket\n",
    "df5 = df3['hearing_disposition'].value_counts()\n",
    "df5"
   ]
  },
  {
   "cell_type": "code",
   "execution_count": 44,
   "metadata": {},
   "outputs": [
    {
     "data": {
      "text/plain": [
       "62.23776223776224"
      ]
     },
     "execution_count": 44,
     "metadata": {},
     "output_type": "execute_result"
    }
   ],
   "source": [
    "# percentage of people who fought their ticket for 'EXP. METER NON-CENTRAL BUSINESS DISTRICT' in ward 46 and won\n",
    "df5['Not Liable']/(df5['Liable']+df5['Not Liable']) * 100"
   ]
  },
  {
   "cell_type": "code",
   "execution_count": null,
   "metadata": {},
   "outputs": [],
   "source": []
  }
 ],
 "metadata": {
  "kernelspec": {
   "display_name": "Python 3",
   "language": "python",
   "name": "python3"
  },
  "language_info": {
   "codemirror_mode": {
    "name": "ipython",
    "version": 3
   },
   "file_extension": ".py",
   "mimetype": "text/x-python",
   "name": "python",
   "nbconvert_exporter": "python",
   "pygments_lexer": "ipython3",
   "version": "3.7.6"
  }
 },
 "nbformat": 4,
 "nbformat_minor": 4
}
