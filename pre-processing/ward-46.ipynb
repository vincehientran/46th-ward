{
 "cells": [
  {
   "cell_type": "code",
   "execution_count": 28,
   "metadata": {},
   "outputs": [],
   "source": [
    "import pandas as pd\n",
    "import numpy as np\n",
    "\n",
    "#open file then get data from ward 46 and save it to a csv\n",
    "df = pd.read_csv(\"COM421_ProPublica_Dataset.csv\")\n",
    "df0 = df.loc[df['ward'] == 46.0]\n",
    "df0.to_csv(\"COM421-final-project-preproccessed.csv\")"
   ]
  },
  {
   "cell_type": "code",
   "execution_count": 98,
   "metadata": {},
   "outputs": [
    {
     "name": "stdout",
     "output_type": "stream",
     "text": [
      "62.24% of people were found not liabile when they fought against a EXP. METER NON-CENTRAL BUSINESS DISTRICT ticket in ward 46\n",
      "49.19% of people were found not liabile when they fought against a STREET CLEANING ticket in ward 46\n",
      "69.38% of people were found not liabile when they fought against a EXPIRED PLATES OR TEMPORARY REGISTRATION ticket in ward 46\n",
      "58.42% of people were found not liabile when they fought against a RESIDENTIAL PERMIT PARKING ticket in ward 46\n",
      "46.54% of people were found not liabile when they fought against a PARKING/STANDING PROHIBITED ANYTIME ticket in ward 46\n"
     ]
    }
   ],
   "source": [
    "# find most common violations\n",
    "df1 = df0['violation_description'].value_counts()\n",
    "\n",
    "for i in range(0,5):\n",
    "    # create a new dataframe that only includes data for specific violation description\n",
    "    df2 = df0.loc[df['violation_description'] == df1.index[i]]\n",
    "    # get the number of people who attempted to fight ticket for a specific violation description\n",
    "    df3 = df2['hearing_disposition'].value_counts()\n",
    "    # percentage of people who fought their ticket for specific violation description in ward 46 and won\n",
    "    df4 = df3['Not Liable']/(df3['Liable']+df3['Not Liable']) * 100\n",
    "    print(str(round(df4,2)) +\"% of people were found not liabile when they fought against a \" +str(df1.index[i]) +\" ticket in ward 46\")"
   ]
  },
  {
   "cell_type": "code",
   "execution_count": 89,
   "metadata": {},
   "outputs": [
    {
     "data": {
      "text/plain": [
       "Paid           18624\n",
       "Notice          3615\n",
       "Define          2688\n",
       "Dismissed       2615\n",
       "Bankruptcy       144\n",
       "Court             37\n",
       "Hearing Req        2\n",
       "Name: ticket_queue, dtype: int64"
      ]
     },
     "execution_count": 89,
     "metadata": {},
     "output_type": "execute_result"
    }
   ],
   "source": [
    "# look at queue within ward 46 -- not a nessecary statistic\n",
    "df_queue = df0['ticket_queue'].value_counts()\n",
    "df_queue\n",
    "# most people just paid"
   ]
  }
 ],
 "metadata": {
  "kernelspec": {
   "display_name": "Python 3",
   "language": "python",
   "name": "python3"
  },
  "language_info": {
   "codemirror_mode": {
    "name": "ipython",
    "version": 3
   },
   "file_extension": ".py",
   "mimetype": "text/x-python",
   "name": "python",
   "nbconvert_exporter": "python",
   "pygments_lexer": "ipython3",
   "version": "3.7.6"
  }
 },
 "nbformat": 4,
 "nbformat_minor": 4
}
