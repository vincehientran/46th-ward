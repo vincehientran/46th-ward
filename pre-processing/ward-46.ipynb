{
 "cells": [
  {
   "cell_type": "code",
   "execution_count": 3,
   "metadata": {},
   "outputs": [
    {
     "name": "stderr",
     "output_type": "stream",
     "text": [
      "/home/ezfire/anaconda3/lib/python3.7/site-packages/IPython/core/interactiveshell.py:3063: DtypeWarning: Columns (6,9,21) have mixed types.Specify dtype option on import or set low_memory=False.\n",
      "  interactivity=interactivity, compiler=compiler, result=result)\n"
     ]
    }
   ],
   "source": [
    "import pandas as pd\n",
    "import numpy as np\n",
    "\n",
    "#open file then get data from ward 46 and save it to a csv\n",
    "df = pd.read_csv(\"COM421_ProPublica_Dataset.csv\")\n",
    "df0 = df.loc[df['ward'] == 46.0]\n",
    "#df0.to_csv(\"COM421-final-project-preproccessed.csv\")"
   ]
  },
  {
   "cell_type": "code",
   "execution_count": 27,
   "metadata": {},
   "outputs": [
    {
     "name": "stdout",
     "output_type": "stream",
     "text": [
      "62.24% of people were found not liabile when they fought against a EXP. METER NON-CENTRAL BUSINESS DISTRICT ticket in ward 46\n",
      "49.19% of people were found not liabile when they fought against a STREET CLEANING ticket in ward 46\n",
      "69.38% of people were found not liabile when they fought against a EXPIRED PLATES OR TEMPORARY REGISTRATION ticket in ward 46\n",
      "58.42% of people were found not liabile when they fought against a RESIDENTIAL PERMIT PARKING ticket in ward 46\n",
      "46.54% of people were found not liabile when they fought against a PARKING/STANDING PROHIBITED ANYTIME ticket in ward 46\n"
     ]
    }
   ],
   "source": [
    "# find most common violations\n",
    "df1 = df0['violation_description'].value_counts()\n",
    "\n",
    "for i in range(0,5):\n",
    "    # create a new dataframe that only includes data for specific violation description\n",
    "    df2 = df0.loc[df0['violation_description'] == df1.index[i]]\n",
    "    # get the number of people who attempted to fight ticket for a specific violation description\n",
    "    df3 = df2['hearing_disposition'].value_counts()\n",
    "    # percentage of people who fought their ticket for specific violation description in ward 46 and won\n",
    "    df4 = df3['Not Liable']/(df3['Liable']+df3['Not Liable']) * 100\n",
    "    print(str(round(df4,2)) +\"% of people were found not liabile when they fought against a \" +str(df1.index[i]) +\" ticket in ward 46\")"
   ]
  },
  {
   "cell_type": "code",
   "execution_count": 60,
   "metadata": {},
   "outputs": [
    {
     "name": "stdout",
     "output_type": "stream",
     "text": [
      "121.87844905320108\n"
     ]
    }
   ],
   "source": [
    "# look at queue within ward 46 -- not a nessecary statistic\n",
    "# most people just paid\n",
    "df_queue = df0['ticket_queue'].value_counts()\n",
    "\n",
    "# average person gets a ticket for 120 dollars\n",
    "#df22 =  df0.loc[df0['ticket_queue'] == \"Paid\"] \n",
    "#print(df22['fine_level2_amount'].sum()/len(df22.index))\n",
    "print(df0['fine_level2_amount'].sum()/len(df0.index))\n",
    "\n",
    "\n",
    "#df_queue1 = df0.loc[df['ticket_queue'] == df_queue.index[4]]"
   ]
  },
  {
   "cell_type": "code",
   "execution_count": 67,
   "metadata": {},
   "outputs": [
    {
     "name": "stdout",
     "output_type": "stream",
     "text": [
      "Bankruptcy in chicago : 0.011310123120099574\n",
      "Bankruptcy in ward 46 : 0.005193868349864743\n"
     ]
    }
   ],
   "source": [
    "# percentage of people who file for bankruptcy in chicago\n",
    "chicago_queue = df['ticket_queue'].value_counts()\n",
    "#print(chicago_queue)\n",
    "chicago_queue1 = df.loc[df['ticket_queue'] == df_queue.index[4]]\n",
    "\n",
    "print(\"Bankruptcy in chicago : \" +str(len(chicago_queue1.index)/len(df.index)))\n",
    "print(\"Bankruptcy in ward 46 : \" +str(len(df0.loc[df0['ticket_queue'] == df_queue.index[4]].index)/len(df0.index)))"
   ]
  },
  {
   "cell_type": "code",
   "execution_count": null,
   "metadata": {},
   "outputs": [],
   "source": []
  },
  {
   "cell_type": "code",
   "execution_count": null,
   "metadata": {},
   "outputs": [],
   "source": []
  }
 ],
 "metadata": {
  "kernelspec": {
   "display_name": "Python 3",
   "language": "python",
   "name": "python3"
  },
  "language_info": {
   "codemirror_mode": {
    "name": "ipython",
    "version": 3
   },
   "file_extension": ".py",
   "mimetype": "text/x-python",
   "name": "python",
   "nbconvert_exporter": "python",
   "pygments_lexer": "ipython3",
   "version": "3.7.6"
  }
 },
 "nbformat": 4,
 "nbformat_minor": 4
}
